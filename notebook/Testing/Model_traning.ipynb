{
 "cells": [
  {
   "cell_type": "code",
   "execution_count": null,
   "id": "19296f1f-d53d-4230-97d4-ed6560a48ab7",
   "metadata": {},
   "outputs": [],
   "source": []
  },
  {
   "cell_type": "code",
   "execution_count": 1,
   "id": "7ac8ec51-8be9-45e4-a8af-d88c1ed79d05",
   "metadata": {},
   "outputs": [],
   "source": [
    "import numpy as np\n",
    "import pandas as pd\n",
    "import seaborn as sns\n",
    "import matplotlib.pyplot as plt\n",
    "%matplotlib inline"
   ]
  },
  {
   "cell_type": "code",
   "execution_count": 2,
   "id": "b56666e6-3b86-44d4-aa3e-877842358eb8",
   "metadata": {},
   "outputs": [
    {
     "ename": "FileNotFoundError",
     "evalue": "[Errno 2] No such file or directory: 'Datasets/cleandata.csv'",
     "output_type": "error",
     "traceback": [
      "\u001b[1;31m---------------------------------------------------------------------------\u001b[0m",
      "\u001b[1;31mFileNotFoundError\u001b[0m                         Traceback (most recent call last)",
      "Cell \u001b[1;32mIn[2], line 1\u001b[0m\n\u001b[1;32m----> 1\u001b[0m df \u001b[38;5;241m=\u001b[39m pd\u001b[38;5;241m.\u001b[39mread_csv(\u001b[38;5;124m\"\u001b[39m\u001b[38;5;124mDatasets/cleandata.csv\u001b[39m\u001b[38;5;124m\"\u001b[39m)\n",
      "File \u001b[1;32m~\\anaconda3\\Lib\\site-packages\\pandas\\io\\parsers\\readers.py:1026\u001b[0m, in \u001b[0;36mread_csv\u001b[1;34m(filepath_or_buffer, sep, delimiter, header, names, index_col, usecols, dtype, engine, converters, true_values, false_values, skipinitialspace, skiprows, skipfooter, nrows, na_values, keep_default_na, na_filter, verbose, skip_blank_lines, parse_dates, infer_datetime_format, keep_date_col, date_parser, date_format, dayfirst, cache_dates, iterator, chunksize, compression, thousands, decimal, lineterminator, quotechar, quoting, doublequote, escapechar, comment, encoding, encoding_errors, dialect, on_bad_lines, delim_whitespace, low_memory, memory_map, float_precision, storage_options, dtype_backend)\u001b[0m\n\u001b[0;32m   1013\u001b[0m kwds_defaults \u001b[38;5;241m=\u001b[39m _refine_defaults_read(\n\u001b[0;32m   1014\u001b[0m     dialect,\n\u001b[0;32m   1015\u001b[0m     delimiter,\n\u001b[1;32m   (...)\u001b[0m\n\u001b[0;32m   1022\u001b[0m     dtype_backend\u001b[38;5;241m=\u001b[39mdtype_backend,\n\u001b[0;32m   1023\u001b[0m )\n\u001b[0;32m   1024\u001b[0m kwds\u001b[38;5;241m.\u001b[39mupdate(kwds_defaults)\n\u001b[1;32m-> 1026\u001b[0m \u001b[38;5;28;01mreturn\u001b[39;00m _read(filepath_or_buffer, kwds)\n",
      "File \u001b[1;32m~\\anaconda3\\Lib\\site-packages\\pandas\\io\\parsers\\readers.py:620\u001b[0m, in \u001b[0;36m_read\u001b[1;34m(filepath_or_buffer, kwds)\u001b[0m\n\u001b[0;32m    617\u001b[0m _validate_names(kwds\u001b[38;5;241m.\u001b[39mget(\u001b[38;5;124m\"\u001b[39m\u001b[38;5;124mnames\u001b[39m\u001b[38;5;124m\"\u001b[39m, \u001b[38;5;28;01mNone\u001b[39;00m))\n\u001b[0;32m    619\u001b[0m \u001b[38;5;66;03m# Create the parser.\u001b[39;00m\n\u001b[1;32m--> 620\u001b[0m parser \u001b[38;5;241m=\u001b[39m TextFileReader(filepath_or_buffer, \u001b[38;5;241m*\u001b[39m\u001b[38;5;241m*\u001b[39mkwds)\n\u001b[0;32m    622\u001b[0m \u001b[38;5;28;01mif\u001b[39;00m chunksize \u001b[38;5;129;01mor\u001b[39;00m iterator:\n\u001b[0;32m    623\u001b[0m     \u001b[38;5;28;01mreturn\u001b[39;00m parser\n",
      "File \u001b[1;32m~\\anaconda3\\Lib\\site-packages\\pandas\\io\\parsers\\readers.py:1620\u001b[0m, in \u001b[0;36mTextFileReader.__init__\u001b[1;34m(self, f, engine, **kwds)\u001b[0m\n\u001b[0;32m   1617\u001b[0m     \u001b[38;5;28mself\u001b[39m\u001b[38;5;241m.\u001b[39moptions[\u001b[38;5;124m\"\u001b[39m\u001b[38;5;124mhas_index_names\u001b[39m\u001b[38;5;124m\"\u001b[39m] \u001b[38;5;241m=\u001b[39m kwds[\u001b[38;5;124m\"\u001b[39m\u001b[38;5;124mhas_index_names\u001b[39m\u001b[38;5;124m\"\u001b[39m]\n\u001b[0;32m   1619\u001b[0m \u001b[38;5;28mself\u001b[39m\u001b[38;5;241m.\u001b[39mhandles: IOHandles \u001b[38;5;241m|\u001b[39m \u001b[38;5;28;01mNone\u001b[39;00m \u001b[38;5;241m=\u001b[39m \u001b[38;5;28;01mNone\u001b[39;00m\n\u001b[1;32m-> 1620\u001b[0m \u001b[38;5;28mself\u001b[39m\u001b[38;5;241m.\u001b[39m_engine \u001b[38;5;241m=\u001b[39m \u001b[38;5;28mself\u001b[39m\u001b[38;5;241m.\u001b[39m_make_engine(f, \u001b[38;5;28mself\u001b[39m\u001b[38;5;241m.\u001b[39mengine)\n",
      "File \u001b[1;32m~\\anaconda3\\Lib\\site-packages\\pandas\\io\\parsers\\readers.py:1880\u001b[0m, in \u001b[0;36mTextFileReader._make_engine\u001b[1;34m(self, f, engine)\u001b[0m\n\u001b[0;32m   1878\u001b[0m     \u001b[38;5;28;01mif\u001b[39;00m \u001b[38;5;124m\"\u001b[39m\u001b[38;5;124mb\u001b[39m\u001b[38;5;124m\"\u001b[39m \u001b[38;5;129;01mnot\u001b[39;00m \u001b[38;5;129;01min\u001b[39;00m mode:\n\u001b[0;32m   1879\u001b[0m         mode \u001b[38;5;241m+\u001b[39m\u001b[38;5;241m=\u001b[39m \u001b[38;5;124m\"\u001b[39m\u001b[38;5;124mb\u001b[39m\u001b[38;5;124m\"\u001b[39m\n\u001b[1;32m-> 1880\u001b[0m \u001b[38;5;28mself\u001b[39m\u001b[38;5;241m.\u001b[39mhandles \u001b[38;5;241m=\u001b[39m get_handle(\n\u001b[0;32m   1881\u001b[0m     f,\n\u001b[0;32m   1882\u001b[0m     mode,\n\u001b[0;32m   1883\u001b[0m     encoding\u001b[38;5;241m=\u001b[39m\u001b[38;5;28mself\u001b[39m\u001b[38;5;241m.\u001b[39moptions\u001b[38;5;241m.\u001b[39mget(\u001b[38;5;124m\"\u001b[39m\u001b[38;5;124mencoding\u001b[39m\u001b[38;5;124m\"\u001b[39m, \u001b[38;5;28;01mNone\u001b[39;00m),\n\u001b[0;32m   1884\u001b[0m     compression\u001b[38;5;241m=\u001b[39m\u001b[38;5;28mself\u001b[39m\u001b[38;5;241m.\u001b[39moptions\u001b[38;5;241m.\u001b[39mget(\u001b[38;5;124m\"\u001b[39m\u001b[38;5;124mcompression\u001b[39m\u001b[38;5;124m\"\u001b[39m, \u001b[38;5;28;01mNone\u001b[39;00m),\n\u001b[0;32m   1885\u001b[0m     memory_map\u001b[38;5;241m=\u001b[39m\u001b[38;5;28mself\u001b[39m\u001b[38;5;241m.\u001b[39moptions\u001b[38;5;241m.\u001b[39mget(\u001b[38;5;124m\"\u001b[39m\u001b[38;5;124mmemory_map\u001b[39m\u001b[38;5;124m\"\u001b[39m, \u001b[38;5;28;01mFalse\u001b[39;00m),\n\u001b[0;32m   1886\u001b[0m     is_text\u001b[38;5;241m=\u001b[39mis_text,\n\u001b[0;32m   1887\u001b[0m     errors\u001b[38;5;241m=\u001b[39m\u001b[38;5;28mself\u001b[39m\u001b[38;5;241m.\u001b[39moptions\u001b[38;5;241m.\u001b[39mget(\u001b[38;5;124m\"\u001b[39m\u001b[38;5;124mencoding_errors\u001b[39m\u001b[38;5;124m\"\u001b[39m, \u001b[38;5;124m\"\u001b[39m\u001b[38;5;124mstrict\u001b[39m\u001b[38;5;124m\"\u001b[39m),\n\u001b[0;32m   1888\u001b[0m     storage_options\u001b[38;5;241m=\u001b[39m\u001b[38;5;28mself\u001b[39m\u001b[38;5;241m.\u001b[39moptions\u001b[38;5;241m.\u001b[39mget(\u001b[38;5;124m\"\u001b[39m\u001b[38;5;124mstorage_options\u001b[39m\u001b[38;5;124m\"\u001b[39m, \u001b[38;5;28;01mNone\u001b[39;00m),\n\u001b[0;32m   1889\u001b[0m )\n\u001b[0;32m   1890\u001b[0m \u001b[38;5;28;01massert\u001b[39;00m \u001b[38;5;28mself\u001b[39m\u001b[38;5;241m.\u001b[39mhandles \u001b[38;5;129;01mis\u001b[39;00m \u001b[38;5;129;01mnot\u001b[39;00m \u001b[38;5;28;01mNone\u001b[39;00m\n\u001b[0;32m   1891\u001b[0m f \u001b[38;5;241m=\u001b[39m \u001b[38;5;28mself\u001b[39m\u001b[38;5;241m.\u001b[39mhandles\u001b[38;5;241m.\u001b[39mhandle\n",
      "File \u001b[1;32m~\\anaconda3\\Lib\\site-packages\\pandas\\io\\common.py:873\u001b[0m, in \u001b[0;36mget_handle\u001b[1;34m(path_or_buf, mode, encoding, compression, memory_map, is_text, errors, storage_options)\u001b[0m\n\u001b[0;32m    868\u001b[0m \u001b[38;5;28;01melif\u001b[39;00m \u001b[38;5;28misinstance\u001b[39m(handle, \u001b[38;5;28mstr\u001b[39m):\n\u001b[0;32m    869\u001b[0m     \u001b[38;5;66;03m# Check whether the filename is to be opened in binary mode.\u001b[39;00m\n\u001b[0;32m    870\u001b[0m     \u001b[38;5;66;03m# Binary mode does not support 'encoding' and 'newline'.\u001b[39;00m\n\u001b[0;32m    871\u001b[0m     \u001b[38;5;28;01mif\u001b[39;00m ioargs\u001b[38;5;241m.\u001b[39mencoding \u001b[38;5;129;01mand\u001b[39;00m \u001b[38;5;124m\"\u001b[39m\u001b[38;5;124mb\u001b[39m\u001b[38;5;124m\"\u001b[39m \u001b[38;5;129;01mnot\u001b[39;00m \u001b[38;5;129;01min\u001b[39;00m ioargs\u001b[38;5;241m.\u001b[39mmode:\n\u001b[0;32m    872\u001b[0m         \u001b[38;5;66;03m# Encoding\u001b[39;00m\n\u001b[1;32m--> 873\u001b[0m         handle \u001b[38;5;241m=\u001b[39m \u001b[38;5;28mopen\u001b[39m(\n\u001b[0;32m    874\u001b[0m             handle,\n\u001b[0;32m    875\u001b[0m             ioargs\u001b[38;5;241m.\u001b[39mmode,\n\u001b[0;32m    876\u001b[0m             encoding\u001b[38;5;241m=\u001b[39mioargs\u001b[38;5;241m.\u001b[39mencoding,\n\u001b[0;32m    877\u001b[0m             errors\u001b[38;5;241m=\u001b[39merrors,\n\u001b[0;32m    878\u001b[0m             newline\u001b[38;5;241m=\u001b[39m\u001b[38;5;124m\"\u001b[39m\u001b[38;5;124m\"\u001b[39m,\n\u001b[0;32m    879\u001b[0m         )\n\u001b[0;32m    880\u001b[0m     \u001b[38;5;28;01melse\u001b[39;00m:\n\u001b[0;32m    881\u001b[0m         \u001b[38;5;66;03m# Binary mode\u001b[39;00m\n\u001b[0;32m    882\u001b[0m         handle \u001b[38;5;241m=\u001b[39m \u001b[38;5;28mopen\u001b[39m(handle, ioargs\u001b[38;5;241m.\u001b[39mmode)\n",
      "\u001b[1;31mFileNotFoundError\u001b[0m: [Errno 2] No such file or directory: 'Datasets/cleandata.csv'"
     ]
    }
   ],
   "source": [
    "df = pd.read_csv(\"Datasets/cleandata.csv\")"
   ]
  },
  {
   "cell_type": "code",
   "execution_count": null,
   "id": "72f6f0df-844c-4423-bd14-309247d24acb",
   "metadata": {},
   "outputs": [],
   "source": [
    "df.head()"
   ]
  },
  {
   "cell_type": "code",
   "execution_count": null,
   "id": "902db176-8bc4-4815-a932-f2b1a33d9f36",
   "metadata": {},
   "outputs": [],
   "source": [
    "df.shape"
   ]
  },
  {
   "cell_type": "code",
   "execution_count": null,
   "id": "225666c9-d8f6-4e27-91e1-7b506f472f2e",
   "metadata": {},
   "outputs": [],
   "source": [
    "categorical_feature = df.columns[df.dtypes == 'object']\n",
    "numerical_feature = df.columns[df.dtypes != 'object']"
   ]
  },
  {
   "cell_type": "code",
   "execution_count": null,
   "id": "663d5e92-f314-4cff-bd8d-bb4f26133c67",
   "metadata": {},
   "outputs": [],
   "source": [
    "categorical_feature"
   ]
  },
  {
   "cell_type": "code",
   "execution_count": null,
   "id": "365876cf-32b4-47cf-a87a-177c60924461",
   "metadata": {},
   "outputs": [],
   "source": [
    "numerical_feature"
   ]
  },
  {
   "cell_type": "code",
   "execution_count": null,
   "id": "1157b185-5b62-4bd6-9f9d-50dd99eb0ae9",
   "metadata": {},
   "outputs": [],
   "source": [
    "for fea in categorical_feature:\n",
    "    unique = df[fea].unique()\n",
    "    print(f\"{fea} :  {unique}\")"
   ]
  },
  {
   "cell_type": "code",
   "execution_count": null,
   "id": "540703ec-81bb-492f-b258-1fabac7d2108",
   "metadata": {},
   "outputs": [],
   "source": [
    "df['Drug'].unique()"
   ]
  },
  {
   "cell_type": "code",
   "execution_count": null,
   "id": "65506b7a-0623-4905-8aaa-b08d2acebb1a",
   "metadata": {},
   "outputs": [],
   "source": [
    "sex = [\"F\",\"M\"]\n",
    "BP = ['LOW','NORMAL','HIGH']\n",
    "cholestrol = ['NORMAL','HIGH']\n",
    "Drug = [\"drugX\",\"DrugY\",\"drugA\",\"drugB\",\"drugC\"]"
   ]
  },
  {
   "cell_type": "code",
   "execution_count": null,
   "id": "d6b00643-0c94-4b35-8400-9e3820b9fb39",
   "metadata": {},
   "outputs": [],
   "source": [
    "df['Sex'] = df['Sex'].map({'F' :0,'M':1})\n",
    "df['BP'] = df['BP'].map({'LOW':0,'NORMAL':1,\"HIGH\":2})\n",
    "df[\"Cholesterol\"] = df['Cholesterol'].map({\"NORMAL\":0,\"HIGH\":1})\n",
    "df[\"Drug\"] = df['Drug'].map({'drugX':0,\"DrugY\":1,\"drugA\":2,\"drugB\":3,\"drugC\":4})"
   ]
  },
  {
   "cell_type": "code",
   "execution_count": null,
   "id": "9f33e84d-f672-473d-9e8d-ce918a998265",
   "metadata": {},
   "outputs": [],
   "source": [
    "x = df.drop(labels=['Drug'],axis=1)"
   ]
  },
  {
   "cell_type": "code",
   "execution_count": null,
   "id": "a02c1c52-e268-4f2f-8b9d-fa89244118c8",
   "metadata": {},
   "outputs": [],
   "source": [
    "y = df[['Drug']]"
   ]
  },
  {
   "cell_type": "code",
   "execution_count": null,
   "id": "c450aafd-1fad-4262-b4c4-a9e2310a20ef",
   "metadata": {},
   "outputs": [],
   "source": [
    "x"
   ]
  },
  {
   "cell_type": "code",
   "execution_count": null,
   "id": "e458d707-4892-4a8d-8081-8c7fcba5327d",
   "metadata": {},
   "outputs": [],
   "source": [
    "y"
   ]
  },
  {
   "cell_type": "code",
   "execution_count": null,
   "id": "5473bd2f-29e0-40df-869c-fe2735bdec3b",
   "metadata": {},
   "outputs": [],
   "source": []
  },
  {
   "cell_type": "code",
   "execution_count": null,
   "id": "d495d9e9-370a-40fd-b988-9e1581d3814f",
   "metadata": {},
   "outputs": [],
   "source": [
    "# Pipelines"
   ]
  },
  {
   "cell_type": "code",
   "execution_count": null,
   "id": "0c8513a2-1e0c-4d67-8e33-6463c3ae05d5",
   "metadata": {},
   "outputs": [],
   "source": [
    "from sklearn.impute import SimpleImputer\n",
    "from sklearn.preprocessing import StandardScaler\n",
    "from sklearn.preprocessing import OrdinalEncoder\n",
    "\n",
    "from sklearn.pipeline import Pipeline\n",
    "from sklearn.compose import ColumnTransformer"
   ]
  },
  {
   "cell_type": "code",
   "execution_count": null,
   "id": "083bb8a8-cea0-4307-8fa0-751af6cf0e49",
   "metadata": {},
   "outputs": [],
   "source": [
    "num_pipeline = Pipeline(\n",
    "    steps=[\n",
    "        ('imputer',SimpleImputer(strategy='median')),\n",
    "        ('scaler',StandardScaler()),\n",
    "    ]\n",
    ")\n",
    "cat_pipeline = Pipeline(\n",
    "    steps = [\n",
    "        ('imputer',SimpleImputer(strategy='most_frequent')),\n",
    "        ('encoding',OrdinalEncoder(categories=[sex,BP,cholestrol,Drug])),\n",
    "    ]\n",
    ")\n",
    "\n",
    "preprocessor = ColumnTransformer(\n",
    "    [\n",
    "        ('num_pipeline',num_pipeline,numerical_feature),\n",
    "        ('cat_pipeline',cat_pipeline,categorical_feature)\n",
    "    ]\n",
    ")"
   ]
  },
  {
   "cell_type": "code",
   "execution_count": null,
   "id": "718a22b9-77f6-4d63-84d4-495b08bcd8e2",
   "metadata": {},
   "outputs": [],
   "source": [
    "num_pipeline"
   ]
  },
  {
   "cell_type": "code",
   "execution_count": null,
   "id": "028815f3-e064-49aa-98db-e7b95c2a1b15",
   "metadata": {},
   "outputs": [],
   "source": [
    "cat_pipeline"
   ]
  },
  {
   "cell_type": "code",
   "execution_count": null,
   "id": "f3f380f2-47bb-42d5-b6f4-3d6f24f24ec1",
   "metadata": {},
   "outputs": [],
   "source": [
    "df.head()"
   ]
  },
  {
   "cell_type": "code",
   "execution_count": null,
   "id": "f60975c8-9837-48e0-bcb5-018eba24eb9f",
   "metadata": {},
   "outputs": [],
   "source": [
    "df['Drug'].unique()"
   ]
  },
  {
   "cell_type": "code",
   "execution_count": null,
   "id": "de399e52-30c9-4ec9-8d6a-2080cf80e3ca",
   "metadata": {},
   "outputs": [],
   "source": [
    "x.head()"
   ]
  },
  {
   "cell_type": "code",
   "execution_count": null,
   "id": "5608f656-2d8a-4e54-ba77-990e040828ae",
   "metadata": {},
   "outputs": [],
   "source": [
    "y.head()"
   ]
  },
  {
   "cell_type": "markdown",
   "id": "d31d9134-72df-4f1d-bdf8-27f6b23078aa",
   "metadata": {},
   "source": [
    "# train test split and standarisation"
   ]
  },
  {
   "cell_type": "code",
   "execution_count": null,
   "id": "da504bd8-e146-48c3-b612-35b8ce7d417b",
   "metadata": {},
   "outputs": [],
   "source": [
    "from sklearn.model_selection import train_test_split\n",
    "from sklearn.preprocessing import StandardScaler"
   ]
  },
  {
   "cell_type": "code",
   "execution_count": null,
   "id": "9ad27d7b-74e6-4f6e-bad9-81202d7fa4c0",
   "metadata": {},
   "outputs": [],
   "source": [
    "scalar = StandardScaler()\n",
    "scalar.fit(x)\n",
    "x_standard = scalar.fit_transform(x)\n",
    "x_train,x_test,y_train,y_test = train_test_split(x_standard,y,test_size=0.20,stratify = y,random_state=42)"
   ]
  },
  {
   "cell_type": "code",
   "execution_count": null,
   "id": "8f652090-a0f7-419f-be0b-21dea0353deb",
   "metadata": {},
   "outputs": [],
   "source": [
    "# for equal number of sample used for training and testing that why we used stratify"
   ]
  },
  {
   "cell_type": "code",
   "execution_count": null,
   "id": "4978c076-93c5-4ff1-b557-2e3f6aa5b9d7",
   "metadata": {},
   "outputs": [],
   "source": [
    "x_train.shape, x_test.shape"
   ]
  },
  {
   "cell_type": "code",
   "execution_count": null,
   "id": "a70039c3-9e1a-438b-a249-05f2b8de5fad",
   "metadata": {},
   "outputs": [],
   "source": [
    "y_train.shape, y_test.shape"
   ]
  },
  {
   "cell_type": "markdown",
   "id": "e0f0ea59-9e4e-4d26-81c0-8595b9e5f258",
   "metadata": {},
   "source": [
    "# Testing Datasets"
   ]
  },
  {
   "cell_type": "code",
   "execution_count": null,
   "id": "f820df96-1f90-4c71-8ce2-3e352e44ac38",
   "metadata": {},
   "outputs": [],
   "source": [
    "from sklearn.tree import DecisionTreeClassifier\n",
    "from sklearn.model_selection import cross_val_score\n",
    "\n",
    "score = cross_val_score(DecisionTreeClassifier(),x,y,cv=10)"
   ]
  },
  {
   "cell_type": "code",
   "execution_count": null,
   "id": "8cc2875a-1294-4b86-bca8-648da0d71b4b",
   "metadata": {},
   "outputs": [],
   "source": [
    "score"
   ]
  },
  {
   "cell_type": "code",
   "execution_count": null,
   "id": "741e2219-b57e-4b98-a960-033ea14d90fe",
   "metadata": {},
   "outputs": [],
   "source": [
    "score.mean()"
   ]
  },
  {
   "cell_type": "code",
   "execution_count": null,
   "id": "bfe48ee7-e141-47fe-a66c-81797ef942f0",
   "metadata": {},
   "outputs": [],
   "source": [
    "from sklearn.ensemble import BaggingClassifier\n",
    "\n",
    "bagging_model = BaggingClassifier(\n",
    "    estimator = DecisionTreeClassifier(),\n",
    "    n_estimators = 100,\n",
    "    max_samples = 0.8,\n",
    "    oob_score = True,\n",
    "    random_state = 0\n",
    ")\n",
    "bagging_model.fit(x_train,y_train)"
   ]
  },
  {
   "cell_type": "code",
   "execution_count": null,
   "id": "88cd19d8-35be-49a5-97b7-c2962384fc4c",
   "metadata": {},
   "outputs": [],
   "source": [
    "bagging_model.oob_score_"
   ]
  },
  {
   "cell_type": "markdown",
   "id": "310efc5f-f938-4ed8-a58f-b98c54fcfd6a",
   "metadata": {},
   "source": [
    "# Multi Model Traing "
   ]
  },
  {
   "cell_type": "code",
   "execution_count": null,
   "id": "8f834c44-6f5b-49c8-a9c9-379e3d38cd82",
   "metadata": {},
   "outputs": [],
   "source": [
    "from sklearn.naive_bayes import GaussianNB\n",
    "from sklearn.linear_model import LogisticRegression\n",
    "from sklearn.svm import SVC\n",
    "from sklearn.naive_bayes import MultinomialNB\n",
    "from sklearn.tree import DecisionTreeClassifier\n",
    "from sklearn.neighbors import KNeighborsClassifier\n",
    "# from xgboost import XGBClassifier\n",
    "from sklearn.ensemble import RandomForestClassifier\n",
    "from sklearn.ensemble import AdaBoostClassifier\n",
    "from sklearn.ensemble import BaggingClassifier\n",
    "from sklearn.ensemble import ExtraTreesClassifier\n",
    "from sklearn.ensemble import GradientBoostingClassifier\n",
    "from sklearn.ensemble import StackingClassifier\n",
    "from sklearn.ensemble import VotingClassifier"
   ]
  },
  {
   "cell_type": "code",
   "execution_count": null,
   "id": "80481dc9-6ef5-465d-95a5-148ac2911bcc",
   "metadata": {},
   "outputs": [],
   "source": [
    "support_vector = SVC(kernel=\"sigmoid\",gamma=1)\n",
    "Kneighbars = KNeighborsClassifier()\n",
    "multi_nominal = MultinomialNB()\n",
    "decision_tree = DecisionTreeClassifier(max_depth=5, min_samples_split=10, min_samples_leaf=5)\n",
    "logistic = LogisticRegression(solver = 'liblinear', penalty = 'l1')\n",
    "random_forest = RandomForestClassifier() \n",
    "ada_boost = AdaBoostClassifier(n_estimators = 80, random_state = 42)\n",
    "bagging = BaggingClassifier(estimator = DecisionTreeClassifier(),n_estimators = 80,max_samples = 0.8,oob_score = True,random_state = 42)\n",
    "Gradient_boost = GradientBoostingClassifier(n_estimators = 80, random_state = 42)\n",
    "# xg_boost = XGBClassifier(n_estimators = 100, random_state= 42)"
   ]
  },
  {
   "cell_type": "code",
   "execution_count": null,
   "id": "c6b6bfbf-8678-480c-9763-f6f9387d4f78",
   "metadata": {},
   "outputs": [],
   "source": [
    "from sklearn import metrics\n",
    "from sklearn.metrics import accuracy_score\n",
    "from sklearn.metrics import confusion_matrix\n",
    "from sklearn.metrics import accuracy_score, precision_score, recall_score, f1_score"
   ]
  },
  {
   "cell_type": "code",
   "execution_count": null,
   "id": "95a24525-995b-4e56-9542-6e7a309186ac",
   "metadata": {},
   "outputs": [],
   "source": [
    "from sklearn.pipeline import make_pipeline\n",
    "base_learner = [\n",
    "    ('support_vector', SVC(probability=True)),  # Enable probability for SVC\n",
    "    ('logistic', LogisticRegression()),\n",
    "    ('random_forest', RandomForestClassifier()),\n",
    "    ('Kneighbars',KNeighborsClassifier())   \n",
    "]\n",
    "stacking = StackingClassifier(estimators=base_learner, final_estimator=DecisionTreeClassifier())"
   ]
  },
  {
   "cell_type": "code",
   "execution_count": null,
   "id": "7fe15353-d353-47df-b9d3-aa313687d55c",
   "metadata": {},
   "outputs": [],
   "source": [
    "classification = {\n",
    "    \n",
    "    'Support Vector Classifier' : support_vector,\n",
    "    'K-Neighbors Classifier'  : Kneighbars,\n",
    "    'Decision Tree Classifier'  : decision_tree,\n",
    "    'Logistic Regression'  : logistic,\n",
    "    'Random Forest Classifier'  : random_forest,\n",
    "    'AdaBoost Classifier': ada_boost,\n",
    "    'Bagging Classifier' : bagging,\n",
    "    'Stacking':stacking,\n",
    "    'Gradient Boosting Classifier' : Gradient_boost,\n",
    "}"
   ]
  },
  {
   "cell_type": "code",
   "execution_count": null,
   "id": "2c3bc2b2-184e-461e-87bf-5e7c80f948d9",
   "metadata": {},
   "outputs": [],
   "source": [
    "\n",
    "def train_classifier(classification, X_train, y_train, X_test, y_test):\n",
    "  accuracy_cv = cross_val_score(classification, X_train, y_train, cv=5, scoring='accuracy')\n",
    "  precision_cv = cross_val_score(classification, X_train, y_train, cv=5, scoring='precision_macro')\n",
    "  classification.fit(X_train, y_train) \n",
    "  y_pred = classification.predict(X_test)\n",
    "  accuracy = accuracy_score(y_test, y_pred)\n",
    "  precision = precision_score(y_test, y_pred,average=\"macro\")\n",
    "  matrix = confusion_matrix(y_test, y_pred)\n",
    "  return accuracy, precision, matrix,accuracy_cv,precision_cv"
   ]
  },
  {
   "cell_type": "code",
   "execution_count": null,
   "id": "3d68a76a-936c-419b-9528-e9131ce7c0a1",
   "metadata": {
    "scrolled": true
   },
   "outputs": [],
   "source": [
    "accuracy_scores = []\n",
    "precision_scores = []\n",
    "accuracy_cv_scores = []\n",
    "precision_cv_scores = []\n",
    "for name, cls in classification.items():\n",
    "  curr_accuracy, curr_precision, matrix,accuracy_cv, precision_cv = train_classifier(cls, x_train, y_train, x_test, y_test)\n",
    "  \n",
    "  print(\"Model name : \", name)\n",
    "  print(\"Accuracy : \", curr_accuracy)\n",
    "  print(\"Precision : \", curr_precision)\n",
    "  print(\"Confusin-Matrix : \", matrix)\n",
    "  print(\"Accuracy cross validation : \", accuracy_cv)\n",
    "  print(\"Precision cross validation : \", precision_cv,\"\\n\")\n",
    "        \n",
    "  accuracy_scores.append(curr_accuracy)\n",
    "  precision_scores.append(curr_precision)\n",
    "  accuracy_cv_scores.append(accuracy_cv.mean())\n",
    "  precision_cv_scores.append(precision_cv.mean())"
   ]
  },
  {
   "cell_type": "markdown",
   "id": "a96afbd8-27c8-47d7-8561-7c6617f830a1",
   "metadata": {},
   "source": [
    "# Overall Result"
   ]
  },
  {
   "cell_type": "code",
   "execution_count": null,
   "id": "35df019c-cdad-4ed8-a6a2-31a77fc0981a",
   "metadata": {},
   "outputs": [],
   "source": [
    "\n",
    "result_dataframe = pd.DataFrame({'Algorithm': classification.keys(), 'Accuracy': accuracy_scores, \n",
    "                                 'Precision' : precision_scores, \"Accuracy CV\":accuracy_cv_scores,\n",
    "                                 \"Precision CV\":precision_cv_scores })"
   ]
  },
  {
   "cell_type": "code",
   "execution_count": null,
   "id": "bf2215e2-17d0-4a11-bdad-af023f642fb1",
   "metadata": {},
   "outputs": [],
   "source": [
    "result_dataframe"
   ]
  },
  {
   "cell_type": "code",
   "execution_count": null,
   "id": "ebb6c7e9-8f72-43ab-91ec-bf0c1949965b",
   "metadata": {},
   "outputs": [],
   "source": [
    "max_accuracy_idx  = result_dataframe['Accuracy'].idxmax()"
   ]
  },
  {
   "cell_type": "code",
   "execution_count": null,
   "id": "ebf75bfc-e020-4c55-82a7-f3ac13e0f3c8",
   "metadata": {},
   "outputs": [],
   "source": [
    "max_accuracy_idx"
   ]
  },
  {
   "cell_type": "code",
   "execution_count": null,
   "id": "f799ff72-a72c-4ec0-a979-2bb4092ed46e",
   "metadata": {},
   "outputs": [],
   "source": [
    "based_moel_name = result_dataframe.loc[max_accuracy_idx,'Algorithm']"
   ]
  },
  {
   "cell_type": "code",
   "execution_count": null,
   "id": "f68b3859-9adc-484d-8d38-37b7d0396fb7",
   "metadata": {},
   "outputs": [],
   "source": [
    "based_moel_name"
   ]
  },
  {
   "cell_type": "code",
   "execution_count": null,
   "id": "8cde9a76-d127-4584-a956-d4c396a3d710",
   "metadata": {},
   "outputs": [],
   "source": [
    "from sklearn.metrics import accuracy_score, precision_score, recall_score, f1_score,confusion_matrix"
   ]
  },
  {
   "cell_type": "code",
   "execution_count": null,
   "id": "9a8a0e98-e74e-49e8-81c0-3d303c07f478",
   "metadata": {},
   "outputs": [],
   "source": [
    "bagging.fit(x_train, y_train) \n",
    "y_pred = bagging.predict(x_test)\n",
    "accuracy = accuracy_score(y_test, y_pred)\n",
    "precision = precision_score(y_test, y_pred,average=\"macro\")\n",
    "recall = recall_score(y_test, y_pred,average=\"macro\")\n",
    "F1_score = f1_score(y_test, y_pred,average=\"macro\")"
   ]
  },
  {
   "cell_type": "code",
   "execution_count": null,
   "id": "5285385c-5746-44b5-9a26-42bc3ccfbcdd",
   "metadata": {},
   "outputs": [],
   "source": [
    "print(\"Accuracy   :\", accuracy)\n",
    "print(\"Precision  :\", precision)\n",
    "print(\"Recall     :\", recall)\n",
    "print(\"F1-score   :\", F1_score)"
   ]
  },
  {
   "cell_type": "code",
   "execution_count": null,
   "id": "8c8a1256-a76f-49f3-98a9-b71da65cbe1b",
   "metadata": {},
   "outputs": [],
   "source": [
    "print(metrics.classification_report(y_test, y_pred))"
   ]
  },
  {
   "cell_type": "markdown",
   "id": "7c6be2c0-3ba3-4758-8e7a-d58a6adf0a9e",
   "metadata": {},
   "source": [
    "# confusion matrix\n",
    "plt.show()"
   ]
  },
  {
   "cell_type": "code",
   "execution_count": null,
   "id": "12b64f06-2743-423e-a7fa-40890c48b23c",
   "metadata": {},
   "outputs": [],
   "source": [
    "cm = confusion_matrix(y_test,y_pred)\n",
    "\n",
    "#Plot the confusion matrix.\n",
    "sns.heatmap(cm,\n",
    "            annot=True,\n",
    "            fmt='g',\n",
    "            xticklabels=['malignant', 'benign'],\n",
    "            yticklabels=['malignant', 'benign'])\n",
    "plt.ylabel('Prediction',fontsize=13)\n",
    "plt.xlabel('Actual',fontsize=13)\n",
    "plt.title('Confusion Matrix',fontsize=17)\n",
    "plt.show()"
   ]
  },
  {
   "cell_type": "code",
   "execution_count": null,
   "id": "6ba99f0f-d9f6-41b6-88e4-439f9f28569e",
   "metadata": {},
   "outputs": [],
   "source": [
    "input_data = (47,1,0,1,10.114)\n",
    "input_data_array = np.asarray(input_data)\n",
    "input_data_reshaped =  input_data_array.reshape(1,-1)\n",
    "print(input_data_reshaped)"
   ]
  },
  {
   "cell_type": "code",
   "execution_count": null,
   "id": "3314f8b9-f370-4c11-9f00-adad096f0b05",
   "metadata": {},
   "outputs": [],
   "source": [
    "ml = [\n",
    "     support_vector,\n",
    "     Kneighbars,\n",
    "     decision_tree,\n",
    "     logistic,\n",
    "     random_forest,\n",
    "     ada_boost,\n",
    "         bagging,\n",
    "        stacking,\n",
    "    Gradient_boost,\n",
    "]\n",
    "for i in ml:\n",
    "    re = i.predict(input_data_reshaped)\n",
    "    print(re)"
   ]
  },
  {
   "cell_type": "code",
   "execution_count": null,
   "id": "2046f771-da9d-4572-8082-d9527e4e20b5",
   "metadata": {
    "scrolled": true
   },
   "outputs": [],
   "source": [
    "prediction = stacking.predict(input_data_reshaped)\n",
    "print(prediction)"
   ]
  },
  {
   "cell_type": "code",
   "execution_count": null,
   "id": "af6cfbc1-eab8-4de1-b746-3170332f7db0",
   "metadata": {},
   "outputs": [],
   "source": [
    "if prediction == 0:\n",
    "    print(\"DrugX\")\n",
    "elif prediction == 1:\n",
    "    print(\"DrugY\")\n",
    "elif prediction == 2:\n",
    "    print(\"DrugA\")\n",
    "elif prediction == 3:\n",
    "    print(\"DrugB\")\n",
    "else:\n",
    "    print(\"DrugC\")"
   ]
  },
  {
   "cell_type": "code",
   "execution_count": null,
   "id": "dafd468b-5c9f-44fc-bf55-87992756482d",
   "metadata": {},
   "outputs": [],
   "source": [
    "# 28\tF\tNORMAL\tHIGH\t7.798\tdrugX\n",
    "# 61\tF\tLOW\tHIGH\t18.043\tDrugY\n",
    "# 47\tM\tLOW\tHIGH\t10.114\tdrugC"
   ]
  }
 ],
 "metadata": {
  "kernelspec": {
   "display_name": "Python 3 (ipykernel)",
   "language": "python",
   "name": "python3"
  },
  "language_info": {
   "codemirror_mode": {
    "name": "ipython",
    "version": 3
   },
   "file_extension": ".py",
   "mimetype": "text/x-python",
   "name": "python",
   "nbconvert_exporter": "python",
   "pygments_lexer": "ipython3",
   "version": "3.12.4"
  }
 },
 "nbformat": 4,
 "nbformat_minor": 5
}
