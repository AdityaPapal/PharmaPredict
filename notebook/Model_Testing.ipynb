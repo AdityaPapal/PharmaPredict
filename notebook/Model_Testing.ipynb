{
 "cells": [
  {
   "cell_type": "code",
   "execution_count": 1,
   "id": "5ce4b7ea-ee47-45a7-a0a1-5167ca6a4684",
   "metadata": {},
   "outputs": [],
   "source": [
    "import pandas as pd\n",
    "import numpy as np\n",
    "import seaborn as sns\n",
    "import matplotlib.pyplot as plt\n",
    "%matplotlib inline\n",
    "\n",
    "\n",
    "import warnings\n",
    "warnings.filterwarnings('ignore')"
   ]
  },
  {
   "cell_type": "code",
   "execution_count": 2,
   "id": "692a5559-a128-4ad2-a72c-82e80658ef70",
   "metadata": {},
   "outputs": [],
   "source": [
    "df = pd.read_csv(\"Datasets/CleanData.csv\")"
   ]
  },
  {
   "cell_type": "code",
   "execution_count": 3,
   "id": "d573e068-91fd-40ed-a37d-16499c77f7ef",
   "metadata": {},
   "outputs": [
    {
     "data": {
      "text/html": [
       "<div>\n",
       "<style scoped>\n",
       "    .dataframe tbody tr th:only-of-type {\n",
       "        vertical-align: middle;\n",
       "    }\n",
       "\n",
       "    .dataframe tbody tr th {\n",
       "        vertical-align: top;\n",
       "    }\n",
       "\n",
       "    .dataframe thead th {\n",
       "        text-align: right;\n",
       "    }\n",
       "</style>\n",
       "<table border=\"1\" class=\"dataframe\">\n",
       "  <thead>\n",
       "    <tr style=\"text-align: right;\">\n",
       "      <th></th>\n",
       "      <th>Age</th>\n",
       "      <th>Sex</th>\n",
       "      <th>BP</th>\n",
       "      <th>Cholesterol</th>\n",
       "      <th>Na_to_K</th>\n",
       "      <th>Drug</th>\n",
       "    </tr>\n",
       "  </thead>\n",
       "  <tbody>\n",
       "    <tr>\n",
       "      <th>0</th>\n",
       "      <td>23</td>\n",
       "      <td>F</td>\n",
       "      <td>HIGH</td>\n",
       "      <td>HIGH</td>\n",
       "      <td>25.355</td>\n",
       "      <td>DrugY</td>\n",
       "    </tr>\n",
       "    <tr>\n",
       "      <th>1</th>\n",
       "      <td>47</td>\n",
       "      <td>M</td>\n",
       "      <td>LOW</td>\n",
       "      <td>HIGH</td>\n",
       "      <td>13.093</td>\n",
       "      <td>drugC</td>\n",
       "    </tr>\n",
       "    <tr>\n",
       "      <th>2</th>\n",
       "      <td>47</td>\n",
       "      <td>M</td>\n",
       "      <td>LOW</td>\n",
       "      <td>HIGH</td>\n",
       "      <td>10.114</td>\n",
       "      <td>drugC</td>\n",
       "    </tr>\n",
       "    <tr>\n",
       "      <th>3</th>\n",
       "      <td>28</td>\n",
       "      <td>F</td>\n",
       "      <td>NORMAL</td>\n",
       "      <td>HIGH</td>\n",
       "      <td>7.798</td>\n",
       "      <td>drugX</td>\n",
       "    </tr>\n",
       "    <tr>\n",
       "      <th>4</th>\n",
       "      <td>61</td>\n",
       "      <td>F</td>\n",
       "      <td>LOW</td>\n",
       "      <td>HIGH</td>\n",
       "      <td>18.043</td>\n",
       "      <td>DrugY</td>\n",
       "    </tr>\n",
       "  </tbody>\n",
       "</table>\n",
       "</div>"
      ],
      "text/plain": [
       "   Age Sex      BP Cholesterol  Na_to_K   Drug\n",
       "0   23   F    HIGH        HIGH   25.355  DrugY\n",
       "1   47   M     LOW        HIGH   13.093  drugC\n",
       "2   47   M     LOW        HIGH   10.114  drugC\n",
       "3   28   F  NORMAL        HIGH    7.798  drugX\n",
       "4   61   F     LOW        HIGH   18.043  DrugY"
      ]
     },
     "execution_count": 3,
     "metadata": {},
     "output_type": "execute_result"
    }
   ],
   "source": [
    "df.head()"
   ]
  },
  {
   "cell_type": "code",
   "execution_count": 4,
   "id": "5839c896-0c56-42b2-8675-a7938bc0cb4c",
   "metadata": {},
   "outputs": [
    {
     "data": {
      "text/plain": [
       "(200, 6)"
      ]
     },
     "execution_count": 4,
     "metadata": {},
     "output_type": "execute_result"
    }
   ],
   "source": [
    "df.shape"
   ]
  },
  {
   "cell_type": "code",
   "execution_count": 5,
   "id": "019f109a-3e6d-4118-a184-1c3c52d4a9fc",
   "metadata": {},
   "outputs": [],
   "source": [
    "categorical_feature = df.columns[df.dtypes == 'object']\n",
    "numerical_feature = df.columns[df.dtypes != 'object']"
   ]
  },
  {
   "cell_type": "code",
   "execution_count": 6,
   "id": "5cedaa77-03f0-48d1-88d6-6ec7820d9263",
   "metadata": {},
   "outputs": [
    {
     "data": {
      "text/plain": [
       "Index(['Sex', 'BP', 'Cholesterol', 'Drug'], dtype='object')"
      ]
     },
     "execution_count": 6,
     "metadata": {},
     "output_type": "execute_result"
    }
   ],
   "source": [
    "categorical_feature"
   ]
  },
  {
   "cell_type": "code",
   "execution_count": 7,
   "id": "683c85bb-14bf-43e9-944f-5f5367ecebce",
   "metadata": {},
   "outputs": [
    {
     "data": {
      "text/plain": [
       "Index(['Age', 'Na_to_K'], dtype='object')"
      ]
     },
     "execution_count": 7,
     "metadata": {},
     "output_type": "execute_result"
    }
   ],
   "source": [
    "numerical_feature"
   ]
  },
  {
   "cell_type": "code",
   "execution_count": 8,
   "id": "350dc454-290d-46e6-aa63-893c806df0a3",
   "metadata": {},
   "outputs": [
    {
     "name": "stdout",
     "output_type": "stream",
     "text": [
      "Sex :  ['F' 'M']\n",
      "BP :  ['HIGH' 'LOW' 'NORMAL']\n",
      "Cholesterol :  ['HIGH' 'NORMAL']\n",
      "Drug :  ['DrugY' 'drugC' 'drugX' 'drugA' 'drugB']\n"
     ]
    }
   ],
   "source": [
    "for fea in categorical_feature:\n",
    "    unique = df[fea].unique()\n",
    "    print(f\"{fea} :  {unique}\")"
   ]
  },
  {
   "cell_type": "code",
   "execution_count": 9,
   "id": "870090e5-c152-4cd9-8822-d5bc614eded9",
   "metadata": {},
   "outputs": [],
   "source": [
    "sex = [\"F\",\"M\"]\n",
    "BP = ['LOW','NORMAL','HIGH']\n",
    "cholestrol = ['NORMAL','HIGH']\n",
    "Drug = [\"drugX\",\"DrugY\",\"drugA\",\"drugB\",\"drugC\"]"
   ]
  },
  {
   "cell_type": "code",
   "execution_count": 10,
   "id": "5fb39be0-55b8-457d-a125-26034e0c7759",
   "metadata": {},
   "outputs": [],
   "source": [
    "df['Sex'] = df['Sex'].map({'F' :0,'M':1})\n",
    "df['BP'] = df['BP'].map({'LOW':0,'NORMAL':1,\"HIGH\":2})\n",
    "df[\"Cholesterol\"] = df['Cholesterol'].map({\"NORMAL\":0,\"HIGH\":1})\n",
    "df[\"Drug\"] = df['Drug'].map({'drugX':0,\"DrugY\":1,\"drugA\":2,\"drugB\":3,\"drugC\":4})"
   ]
  },
  {
   "cell_type": "markdown",
   "id": "da181d15-51f4-4db6-bbf2-72e2da6ef41f",
   "metadata": {},
   "source": [
    "# Data Binning \n",
    "The age will be divided into 7 age categories:\n",
    "\n",
    "Below 20 y.o \n",
    "\n",
    "20 - 29 y.o\n",
    "\n",
    "30 - 39 y.o\n",
    "\n",
    "40 - 49 y.o.\n",
    "\n",
    "50 - 59 y.o.\n",
    "\n",
    "60 - 69 y.o.\n",
    "\n",
    "Above 70."
   ]
  },
  {
   "cell_type": "code",
   "execution_count": 12,
   "id": "93b95f13-ff6f-45c7-814c-15aed4a69cf9",
   "metadata": {},
   "outputs": [],
   "source": [
    "bin_age = [0, 19, 29, 39, 49, 59, 69, 80]\n",
    "category_age = [19, 20, 30, 40, 50, 60, 61]\n",
    "df['Age_binned'] = pd.cut(df['Age'], bins=bin_age, labels=category_age)\n",
    "df = df.drop(['Age'], axis = 1)"
   ]
  },
  {
   "cell_type": "markdown",
   "id": "7abbbbc0-3394-4edc-8d36-8f40ca3e7ed2",
   "metadata": {},
   "source": [
    "# Na_to_K \n",
    "The chemical ratio will be divided into 4 categories:\r\n",
    "\r\n",
    "Bew 10.\n",
    "\n",
    "10 - 20.\n",
    "\n",
    "20 - 30.\n",
    "\n",
    "Above 30.e 30."
   ]
  },
  {
   "cell_type": "code",
   "execution_count": 14,
   "id": "a8537c51-a96e-4de0-b954-08e2459d2eb6",
   "metadata": {},
   "outputs": [],
   "source": [
    "bin_NatoK = [0, 9, 19, 29, 50]\n",
    "category_NatoK = [9, 10, 20, 30]\n",
    "df['Na_to_K_binned'] = pd.cut(df['Na_to_K'], bins=bin_NatoK, labels=category_NatoK)\n",
    "df = df.drop(['Na_to_K'], axis = 1)"
   ]
  },
  {
   "cell_type": "code",
   "execution_count": 15,
   "id": "a18a8d0b-5b74-4855-937e-a0e015f81887",
   "metadata": {},
   "outputs": [
    {
     "data": {
      "text/html": [
       "<div>\n",
       "<style scoped>\n",
       "    .dataframe tbody tr th:only-of-type {\n",
       "        vertical-align: middle;\n",
       "    }\n",
       "\n",
       "    .dataframe tbody tr th {\n",
       "        vertical-align: top;\n",
       "    }\n",
       "\n",
       "    .dataframe thead th {\n",
       "        text-align: right;\n",
       "    }\n",
       "</style>\n",
       "<table border=\"1\" class=\"dataframe\">\n",
       "  <thead>\n",
       "    <tr style=\"text-align: right;\">\n",
       "      <th></th>\n",
       "      <th>Sex</th>\n",
       "      <th>BP</th>\n",
       "      <th>Cholesterol</th>\n",
       "      <th>Drug</th>\n",
       "      <th>Age_binned</th>\n",
       "      <th>Na_to_K_binned</th>\n",
       "    </tr>\n",
       "  </thead>\n",
       "  <tbody>\n",
       "    <tr>\n",
       "      <th>0</th>\n",
       "      <td>0</td>\n",
       "      <td>2</td>\n",
       "      <td>1</td>\n",
       "      <td>1</td>\n",
       "      <td>20</td>\n",
       "      <td>20</td>\n",
       "    </tr>\n",
       "    <tr>\n",
       "      <th>1</th>\n",
       "      <td>1</td>\n",
       "      <td>0</td>\n",
       "      <td>1</td>\n",
       "      <td>4</td>\n",
       "      <td>40</td>\n",
       "      <td>10</td>\n",
       "    </tr>\n",
       "    <tr>\n",
       "      <th>2</th>\n",
       "      <td>1</td>\n",
       "      <td>0</td>\n",
       "      <td>1</td>\n",
       "      <td>4</td>\n",
       "      <td>40</td>\n",
       "      <td>10</td>\n",
       "    </tr>\n",
       "    <tr>\n",
       "      <th>3</th>\n",
       "      <td>0</td>\n",
       "      <td>1</td>\n",
       "      <td>1</td>\n",
       "      <td>0</td>\n",
       "      <td>20</td>\n",
       "      <td>9</td>\n",
       "    </tr>\n",
       "    <tr>\n",
       "      <th>4</th>\n",
       "      <td>0</td>\n",
       "      <td>0</td>\n",
       "      <td>1</td>\n",
       "      <td>1</td>\n",
       "      <td>60</td>\n",
       "      <td>10</td>\n",
       "    </tr>\n",
       "  </tbody>\n",
       "</table>\n",
       "</div>"
      ],
      "text/plain": [
       "   Sex  BP  Cholesterol  Drug Age_binned Na_to_K_binned\n",
       "0    0   2            1     1         20             20\n",
       "1    1   0            1     4         40             10\n",
       "2    1   0            1     4         40             10\n",
       "3    0   1            1     0         20              9\n",
       "4    0   0            1     1         60             10"
      ]
     },
     "execution_count": 15,
     "metadata": {},
     "output_type": "execute_result"
    }
   ],
   "source": [
    "df.head()"
   ]
  },
  {
   "cell_type": "code",
   "execution_count": 16,
   "id": "80e6a2cd-cb2c-4446-afc3-9d7dcf721b1f",
   "metadata": {},
   "outputs": [],
   "source": [
    "# Feature Engineering"
   ]
  },
  {
   "cell_type": "code",
   "execution_count": 17,
   "id": "3c11eb87-e96c-4129-8fd3-f41a60ddbd06",
   "metadata": {},
   "outputs": [],
   "source": [
    "from sklearn.metrics import confusion_matrix\n",
    "from sklearn.metrics import classification_report"
   ]
  },
  {
   "cell_type": "code",
   "execution_count": 18,
   "id": "16a74a96-6e4e-4d6c-85a0-05dce7aed4e2",
   "metadata": {},
   "outputs": [],
   "source": [
    "x = df.drop([\"Drug\"], axis=1)\n",
    "y = df[\"Drug\"]\n",
    "\n",
    "from sklearn.model_selection import train_test_split\n",
    "x_train, x_test, y_train, y_test = train_test_split(x, y, test_size = 0.3, random_state = 0) "
   ]
  },
  {
   "cell_type": "code",
   "execution_count": 19,
   "id": "88343148-ab20-496b-b767-902bd36cfbe0",
   "metadata": {},
   "outputs": [],
   "source": [
    "# x_train = pd.get_dummies(x_train)\n",
    "# x_test = pd.get_dummies(x_test)"
   ]
  },
  {
   "cell_type": "code",
   "execution_count": 20,
   "id": "d200dfc2-1cfd-4bf3-9165-786468601425",
   "metadata": {},
   "outputs": [
    {
     "data": {
      "text/html": [
       "<div>\n",
       "<style scoped>\n",
       "    .dataframe tbody tr th:only-of-type {\n",
       "        vertical-align: middle;\n",
       "    }\n",
       "\n",
       "    .dataframe tbody tr th {\n",
       "        vertical-align: top;\n",
       "    }\n",
       "\n",
       "    .dataframe thead th {\n",
       "        text-align: right;\n",
       "    }\n",
       "</style>\n",
       "<table border=\"1\" class=\"dataframe\">\n",
       "  <thead>\n",
       "    <tr style=\"text-align: right;\">\n",
       "      <th></th>\n",
       "      <th>Sex</th>\n",
       "      <th>BP</th>\n",
       "      <th>Cholesterol</th>\n",
       "      <th>Age_binned</th>\n",
       "      <th>Na_to_K_binned</th>\n",
       "    </tr>\n",
       "  </thead>\n",
       "  <tbody>\n",
       "    <tr>\n",
       "      <th>131</th>\n",
       "      <td>1</td>\n",
       "      <td>0</td>\n",
       "      <td>0</td>\n",
       "      <td>50</td>\n",
       "      <td>30</td>\n",
       "    </tr>\n",
       "    <tr>\n",
       "      <th>96</th>\n",
       "      <td>0</td>\n",
       "      <td>0</td>\n",
       "      <td>1</td>\n",
       "      <td>50</td>\n",
       "      <td>30</td>\n",
       "    </tr>\n",
       "    <tr>\n",
       "      <th>181</th>\n",
       "      <td>0</td>\n",
       "      <td>1</td>\n",
       "      <td>1</td>\n",
       "      <td>50</td>\n",
       "      <td>10</td>\n",
       "    </tr>\n",
       "    <tr>\n",
       "      <th>19</th>\n",
       "      <td>0</td>\n",
       "      <td>2</td>\n",
       "      <td>0</td>\n",
       "      <td>30</td>\n",
       "      <td>20</td>\n",
       "    </tr>\n",
       "    <tr>\n",
       "      <th>153</th>\n",
       "      <td>0</td>\n",
       "      <td>0</td>\n",
       "      <td>0</td>\n",
       "      <td>61</td>\n",
       "      <td>10</td>\n",
       "    </tr>\n",
       "  </tbody>\n",
       "</table>\n",
       "</div>"
      ],
      "text/plain": [
       "     Sex  BP  Cholesterol Age_binned Na_to_K_binned\n",
       "131    1   0            0         50             30\n",
       "96     0   0            1         50             30\n",
       "181    0   1            1         50             10\n",
       "19     0   2            0         30             20\n",
       "153    0   0            0         61             10"
      ]
     },
     "execution_count": 20,
     "metadata": {},
     "output_type": "execute_result"
    }
   ],
   "source": [
    "x_train.head()"
   ]
  },
  {
   "cell_type": "code",
   "execution_count": 21,
   "id": "7fa09f26-996b-4dfd-9ae0-19e6c0d3c8eb",
   "metadata": {},
   "outputs": [
    {
     "data": {
      "text/html": [
       "<div>\n",
       "<style scoped>\n",
       "    .dataframe tbody tr th:only-of-type {\n",
       "        vertical-align: middle;\n",
       "    }\n",
       "\n",
       "    .dataframe tbody tr th {\n",
       "        vertical-align: top;\n",
       "    }\n",
       "\n",
       "    .dataframe thead th {\n",
       "        text-align: right;\n",
       "    }\n",
       "</style>\n",
       "<table border=\"1\" class=\"dataframe\">\n",
       "  <thead>\n",
       "    <tr style=\"text-align: right;\">\n",
       "      <th></th>\n",
       "      <th>Sex</th>\n",
       "      <th>BP</th>\n",
       "      <th>Cholesterol</th>\n",
       "      <th>Age_binned</th>\n",
       "      <th>Na_to_K_binned</th>\n",
       "    </tr>\n",
       "  </thead>\n",
       "  <tbody>\n",
       "    <tr>\n",
       "      <th>18</th>\n",
       "      <td>1</td>\n",
       "      <td>0</td>\n",
       "      <td>1</td>\n",
       "      <td>20</td>\n",
       "      <td>9</td>\n",
       "    </tr>\n",
       "    <tr>\n",
       "      <th>170</th>\n",
       "      <td>0</td>\n",
       "      <td>1</td>\n",
       "      <td>1</td>\n",
       "      <td>20</td>\n",
       "      <td>10</td>\n",
       "    </tr>\n",
       "    <tr>\n",
       "      <th>107</th>\n",
       "      <td>1</td>\n",
       "      <td>0</td>\n",
       "      <td>1</td>\n",
       "      <td>40</td>\n",
       "      <td>20</td>\n",
       "    </tr>\n",
       "    <tr>\n",
       "      <th>98</th>\n",
       "      <td>1</td>\n",
       "      <td>2</td>\n",
       "      <td>0</td>\n",
       "      <td>20</td>\n",
       "      <td>30</td>\n",
       "    </tr>\n",
       "    <tr>\n",
       "      <th>177</th>\n",
       "      <td>1</td>\n",
       "      <td>1</td>\n",
       "      <td>1</td>\n",
       "      <td>20</td>\n",
       "      <td>20</td>\n",
       "    </tr>\n",
       "  </tbody>\n",
       "</table>\n",
       "</div>"
      ],
      "text/plain": [
       "     Sex  BP  Cholesterol Age_binned Na_to_K_binned\n",
       "18     1   0            1         20              9\n",
       "170    0   1            1         20             10\n",
       "107    1   0            1         40             20\n",
       "98     1   2            0         20             30\n",
       "177    1   1            1         20             20"
      ]
     },
     "execution_count": 21,
     "metadata": {},
     "output_type": "execute_result"
    }
   ],
   "source": [
    "x_test.head()"
   ]
  },
  {
   "cell_type": "markdown",
   "id": "d1ff2095-2b88-4926-b683-7bd152e2a865",
   "metadata": {},
   "source": [
    "# SMOTE Technique \n",
    "Since the number of 'DrugY' is more than other types of drugs, oversampling is carried out to avoid overfitting"
   ]
  },
  {
   "cell_type": "code",
   "execution_count": 23,
   "id": "08600628-1197-4315-bedf-0f26280486ec",
   "metadata": {},
   "outputs": [],
   "source": [
    "from imblearn.over_sampling import SMOTE\n",
    "x_train, y_train = SMOTE().fit_resample(x_train, y_train)"
   ]
  },
  {
   "cell_type": "code",
   "execution_count": 24,
   "id": "c36eda04-ea7e-416e-9335-bdaff89d1025",
   "metadata": {},
   "outputs": [
    {
     "data": {
      "image/png": "[encoded data removed]",
      "text/plain": [
       "<Figure size 640x480 with 1 Axes>"
      ]
     },
     "metadata": {},
     "output_type": "display_data"
    }
   ],
   "source": [
    "sns.set_theme(style=\"darkgrid\")\n",
    "sns.countplot(y=y_train, data=df, palette=\"mako_r\")\n",
    "plt.ylabel('Drug Type')\n",
    "plt.xlabel('Total')\n",
    "plt.show()"
   ]
  },
  {
   "cell_type": "markdown",
   "id": "8e65a291-34a5-45f5-b8a2-66af4d79ae63",
   "metadata": {},
   "source": [
    "# Model Training"
   ]
  },
  {
   "cell_type": "code",
   "execution_count": 26,
   "id": "11915912-1c1c-4778-8e11-e8b50527618e",
   "metadata": {},
   "outputs": [],
   "source": [
    "# Linear Regression"
   ]
  },
  {
   "cell_type": "code",
   "execution_count": 27,
   "id": "30d0bb8a-9def-4347-b773-710305273128",
   "metadata": {},
   "outputs": [
    {
     "name": "stdout",
     "output_type": "stream",
     "text": [
      "              precision    recall  f1-score   support\n",
      "\n",
      "           0       0.41      0.72      0.52        18\n",
      "           1       0.64      0.60      0.62        30\n",
      "           2       0.00      0.00      0.00         5\n",
      "           3       0.00      0.00      0.00         3\n",
      "           4       0.00      0.00      0.00         4\n",
      "\n",
      "    accuracy                           0.52        60\n",
      "   macro avg       0.21      0.26      0.23        60\n",
      "weighted avg       0.44      0.52      0.47        60\n",
      "\n",
      "[[13  5  0  0  0]\n",
      " [12 18  0  0  0]\n",
      " [ 3  2  0  0  0]\n",
      " [ 3  0  0  0  0]\n",
      " [ 1  3  0  0  0]]\n",
      "Logistic Regression accuracy is: 51.67%\n"
     ]
    }
   ],
   "source": [
    "from sklearn.linear_model import LogisticRegression\n",
    "LRclassifier = LogisticRegression(solver='liblinear', max_iter=5000)\n",
    "LRclassifier.fit(x_train, y_train)\n",
    "\n",
    "y_pred = LRclassifier.predict(x_test)\n",
    "\n",
    "print(classification_report(y_test, y_pred))\n",
    "print(confusion_matrix(y_test, y_pred))\n",
    "\n",
    "from sklearn.metrics import accuracy_score\n",
    "LRAcc = accuracy_score(y_pred,y_test)\n",
    "print('Logistic Regression accuracy is: {:.2f}%'.format(LRAcc*100))"
   ]
  },
  {
   "cell_type": "code",
   "execution_count": 28,
   "id": "3a1bade0-2025-4841-81a7-b29b6f7de97d",
   "metadata": {},
   "outputs": [],
   "source": [
    "# K Neighbours Classifiers"
   ]
  },
  {
   "cell_type": "code",
   "execution_count": 29,
   "id": "4d9299ab-06b1-40f0-b9cb-a10ae2041808",
   "metadata": {},
   "outputs": [
    {
     "name": "stdout",
     "output_type": "stream",
     "text": [
      "              precision    recall  f1-score   support\n",
      "\n",
      "           0       0.71      0.67      0.69        18\n",
      "           1       1.00      0.53      0.70        30\n",
      "           2       0.33      1.00      0.50         5\n",
      "           3       0.33      1.00      0.50         3\n",
      "           4       0.33      0.25      0.29         4\n",
      "\n",
      "    accuracy                           0.62        60\n",
      "   macro avg       0.54      0.69      0.53        60\n",
      "weighted avg       0.78      0.62      0.64        60\n",
      "\n",
      "[[12  0  6  0  0]\n",
      " [ 2 16  4  6  2]\n",
      " [ 0  0  5  0  0]\n",
      " [ 0  0  0  3  0]\n",
      " [ 3  0  0  0  1]]\n",
      "K Neighbours accuracy is: 61.67%\n"
     ]
    }
   ],
   "source": [
    "from sklearn.neighbors import KNeighborsClassifier\n",
    "KNclassifier = KNeighborsClassifier(n_neighbors=20)\n",
    "KNclassifier.fit(x_train, y_train)\n",
    "\n",
    "y_pred = KNclassifier.predict(x_test)\n",
    "\n",
    "print(classification_report(y_test, y_pred))\n",
    "print(confusion_matrix(y_test, y_pred))\n",
    "\n",
    "from sklearn.metrics import accuracy_score\n",
    "KNAcc = accuracy_score(y_pred,y_test)\n",
    "print('K Neighbours accuracy is: {:.2f}%'.format(KNAcc*100))"
   ]
  },
  {
   "cell_type": "code",
   "execution_count": 30,
   "id": "c031f7b1-6dac-49f7-910b-65a6333d387d",
   "metadata": {},
   "outputs": [],
   "source": [
    "# Multi Model Training"
   ]
  },
  {
   "cell_type": "code",
   "execution_count": 31,
   "id": "8083a075-2f11-464d-bc3a-a81c425975c4",
   "metadata": {},
   "outputs": [],
   "source": [
    "from sklearn.naive_bayes import GaussianNB\n",
    "from sklearn.linear_model import LogisticRegression\n",
    "from sklearn.svm import SVC\n",
    "from sklearn.naive_bayes import MultinomialNB\n",
    "from sklearn.tree import DecisionTreeClassifier\n",
    "from sklearn.neighbors import KNeighborsClassifier\n",
    "from sklearn.ensemble import RandomForestClassifier\n",
    "from sklearn.ensemble import AdaBoostClassifier\n",
    "from sklearn.ensemble import BaggingClassifier\n",
    "from sklearn.ensemble import ExtraTreesClassifier\n",
    "from sklearn.ensemble import GradientBoostingClassifier\n",
    "from sklearn.ensemble import StackingClassifier\n",
    "from sklearn.ensemble import VotingClassifier\n",
    "from sklearn.naive_bayes import CategoricalNB\n",
    "from sklearn.naive_bayes import GaussianNB"
   ]
  },
  {
   "cell_type": "code",
   "execution_count": 32,
   "id": "26af52a5-bee7-4c2e-913c-30d70858e84a",
   "metadata": {},
   "outputs": [],
   "source": [
    "support_vector = SVC(kernel='linear', max_iter=251)\n",
    "Kneighbars = KNeighborsClassifier(n_neighbors=20)\n",
    "NBclassifier1 = CategoricalNB()\n",
    "NBclassifier2 = GaussianNB()\n",
    "decision_tree = DecisionTreeClassifier(max_leaf_nodes=20)\n",
    "logistic = LogisticRegression(solver = 'liblinear', penalty = 'l1',max_iter=5000)\n",
    "random_forest = RandomForestClassifier(max_leaf_nodes=30) \n",
    "ada_boost = AdaBoostClassifier(n_estimators = 20, )\n",
    "bagging = BaggingClassifier(estimator = DecisionTreeClassifier(),n_estimators = 20,max_samples = 0.8,oob_score = True)\n",
    "Gradient_boost = GradientBoostingClassifier(n_estimators = 20)"
   ]
  },
  {
   "cell_type": "code",
   "execution_count": 33,
   "id": "8954a1fa-485f-42b3-b5a1-3e3a54ab37d8",
   "metadata": {},
   "outputs": [],
   "source": [
    "from sklearn import metrics\n",
    "from sklearn.metrics import accuracy_score\n",
    "from sklearn.metrics import confusion_matrix\n",
    "from sklearn.metrics import accuracy_score, precision_score, recall_score, f1_score"
   ]
  },
  {
   "cell_type": "code",
   "execution_count": 34,
   "id": "57366321-fbe4-41af-92a8-577bfa6651a8",
   "metadata": {},
   "outputs": [],
   "source": [
    "from sklearn.pipeline import make_pipeline\n",
    "base_learner = [\n",
    "    ('support_vector', SVC(kernel='linear', max_iter=251,probability=True)),  # Enable probability for SVC\n",
    "    ('logistic', LogisticRegression(solver = 'liblinear', penalty = 'l1',max_iter=5000)),\n",
    "    ('random_forest', RandomForestClassifier(max_leaf_nodes=30)),\n",
    "    ('Kneighbars',KNeighborsClassifier(n_neighbors=20))   \n",
    "]\n",
    "stacking = StackingClassifier(estimators=base_learner, final_estimator=DecisionTreeClassifier(max_leaf_nodes=20))"
   ]
  },
  {
   "cell_type": "code",
   "execution_count": 35,
   "id": "393541b4-7ebd-423e-9ce3-c65010e22b7e",
   "metadata": {},
   "outputs": [],
   "source": [
    "classification = {\n",
    "    'Support Vector Classifier' : support_vector,\n",
    "    'K-Neighbors Classifier'  : Kneighbars,\n",
    "    'Decision Tree Classifier'  : decision_tree,\n",
    "    'Logistic Regression'  : logistic,\n",
    "    'Random Forest Classifier'  : random_forest,\n",
    "    'AdaBoost Classifier': ada_boost,\n",
    "    'Bagging Classifier' : bagging,\n",
    "    'Stacking':stacking,\n",
    "    'Gradient Boosting Classifier' : Gradient_boost,\n",
    "}"
   ]
  },
  {
   "cell_type": "code",
   "execution_count": 36,
   "id": "c8c319ff-074a-451c-b276-5ced4be3155c",
   "metadata": {},
   "outputs": [],
   "source": [
    "\n",
    "def train_classifier(classification, X_train, y_train, X_test, y_test):\n",
    "  classification.fit(X_train, y_train) \n",
    "  y_pred = classification.predict(X_test)\n",
    "  accuracy = accuracy_score(y_pred,y_test)\n",
    "  precision = precision_score(y_pred,y_test,average=\"macro\")\n",
    "  matrix = confusion_matrix(y_pred,y_test)\n",
    "  return accuracy, precision, matrix"
   ]
  },
  {
   "cell_type": "code",
   "execution_count": 37,
   "id": "495b8964-372c-4081-9dce-6eb1f468a966",
   "metadata": {},
   "outputs": [
    {
     "name": "stdout",
     "output_type": "stream",
     "text": [
      "Model name :  Support Vector Classifier\n",
      "Accuracy :  0.8333333333333334\n",
      "Precision :  0.7488888888888889\n",
      "Confusin-Matrix :  [[17  2  0  0  0]\n",
      " [ 1 24  0  3  0]\n",
      " [ 0  2  5  0  0]\n",
      " [ 0  0  0  0  0]\n",
      " [ 0  2  0  0  4]]\n",
      "\n",
      "Model name :  K-Neighbors Classifier\n",
      "Accuracy :  0.6166666666666667\n",
      "Precision :  0.6900000000000001\n",
      "Confusin-Matrix :  [[12  2  0  0  3]\n",
      " [ 0 16  0  0  0]\n",
      " [ 6  4  5  0  0]\n",
      " [ 0  6  0  3  0]\n",
      " [ 0  2  0  0  1]]\n",
      "\n",
      "Model name :  Decision Tree Classifier\n",
      "Accuracy :  0.8333333333333334\n",
      "Precision :  0.9\n",
      "Confusin-Matrix :  [[18  4  0  0  0]\n",
      " [ 0 21  1  0  0]\n",
      " [ 0  2  4  0  0]\n",
      " [ 0  1  0  3  0]\n",
      " [ 0  2  0  0  4]]\n",
      "\n",
      "Model name :  Logistic Regression\n",
      "Accuracy :  0.7833333333333333\n",
      "Precision :  0.768888888888889\n",
      "Confusin-Matrix :  [[14  1  0  0  0]\n",
      " [ 4 24  0  0  0]\n",
      " [ 0  1  3  1  0]\n",
      " [ 0  2  2  2  0]\n",
      " [ 0  2  0  0  4]]\n",
      "\n",
      "Model name :  Random Forest Classifier\n",
      "Accuracy :  0.85\n",
      "Precision :  0.9400000000000001\n",
      "Confusin-Matrix :  [[18  4  0  0  0]\n",
      " [ 0 21  0  0  0]\n",
      " [ 0  2  5  0  0]\n",
      " [ 0  1  0  3  0]\n",
      " [ 0  2  0  0  4]]\n",
      "\n",
      "Model name :  AdaBoost Classifier\n",
      "Accuracy :  0.5\n",
      "Precision :  0.54\n",
      "Confusin-Matrix :  [[ 0  0  0  0  0]\n",
      " [ 0 21  0  0  0]\n",
      " [ 0  3  5  3  0]\n",
      " [ 0  0  0  0  0]\n",
      " [18  6  0  0  4]]\n",
      "\n",
      "Model name :  Bagging Classifier\n",
      "Accuracy :  0.8166666666666667\n",
      "Precision :  0.9088888888888889\n",
      "Confusin-Matrix :  [[14  2  0  0  0]\n",
      " [ 4 23  0  0  0]\n",
      " [ 0  2  5  0  0]\n",
      " [ 0  1  0  3  0]\n",
      " [ 0  2  0  0  4]]\n",
      "\n",
      "Model name :  Stacking\n",
      "Accuracy :  0.7666666666666667\n",
      "Precision :  0.7422222222222221\n",
      "Confusin-Matrix :  [[14  3  0  0  0]\n",
      " [ 4 23  0  1  2]\n",
      " [ 0  2  5  0  0]\n",
      " [ 0  1  0  2  0]\n",
      " [ 0  1  0  0  2]]\n",
      "\n",
      "Model name :  Gradient Boosting Classifier\n",
      "Accuracy :  0.85\n",
      "Precision :  0.9400000000000001\n",
      "Confusin-Matrix :  [[18  4  0  0  0]\n",
      " [ 0 21  0  0  0]\n",
      " [ 0  2  5  0  0]\n",
      " [ 0  1  0  3  0]\n",
      " [ 0  2  0  0  4]]\n",
      "\n"
     ]
    }
   ],
   "source": [
    "accuracy_scores = []\n",
    "precision_scores = []\n",
    "\n",
    "for name, cls in classification.items():\n",
    "  accuracy, precision, matrix = train_classifier(cls, x_train, y_train, x_test, y_test)\n",
    "  \n",
    "  print(\"Model name : \", name)\n",
    "  print(\"Accuracy : \", accuracy)\n",
    "  print(\"Precision : \", precision)\n",
    "  print(\"Confusin-Matrix : \", matrix)\n",
    "  print()\n",
    "        \n",
    "  accuracy_scores.append(accuracy)\n",
    "  precision_scores.append(precision)\n",
    "  "
   ]
  },
  {
   "cell_type": "code",
   "execution_count": 38,
   "id": "e036891b-4f46-4c4f-9b94-9f6d1115826b",
   "metadata": {},
   "outputs": [],
   "source": [
    "# Overall Result"
   ]
  },
  {
   "cell_type": "code",
   "execution_count": 39,
   "id": "5de81277-1516-48fd-8b20-92cb89b5c988",
   "metadata": {},
   "outputs": [],
   "source": [
    "result_dataframe = pd.DataFrame({'Algorithm': classification.keys(), 'Accuracy': accuracy_scores, \n",
    "                                 'Precision' : precision_scores,})"
   ]
  },
  {
   "cell_type": "code",
   "execution_count": 40,
   "id": "0fa5edab-0fab-47a5-aadf-e47107dfe6b6",
   "metadata": {},
   "outputs": [
    {
     "data": {
      "text/html": [
       "<div>\n",
       "<style scoped>\n",
       "    .dataframe tbody tr th:only-of-type {\n",
       "        vertical-align: middle;\n",
       "    }\n",
       "\n",
       "    .dataframe tbody tr th {\n",
       "        vertical-align: top;\n",
       "    }\n",
       "\n",
       "    .dataframe thead th {\n",
       "        text-align: right;\n",
       "    }\n",
       "</style>\n",
       "<table border=\"1\" class=\"dataframe\">\n",
       "  <thead>\n",
       "    <tr style=\"text-align: right;\">\n",
       "      <th></th>\n",
       "      <th>Algorithm</th>\n",
       "      <th>Accuracy</th>\n",
       "      <th>Precision</th>\n",
       "    </tr>\n",
       "  </thead>\n",
       "  <tbody>\n",
       "    <tr>\n",
       "      <th>0</th>\n",
       "      <td>Support Vector Classifier</td>\n",
       "      <td>0.833333</td>\n",
       "      <td>0.748889</td>\n",
       "    </tr>\n",
       "    <tr>\n",
       "      <th>1</th>\n",
       "      <td>K-Neighbors Classifier</td>\n",
       "      <td>0.616667</td>\n",
       "      <td>0.690000</td>\n",
       "    </tr>\n",
       "    <tr>\n",
       "      <th>2</th>\n",
       "      <td>Decision Tree Classifier</td>\n",
       "      <td>0.833333</td>\n",
       "      <td>0.900000</td>\n",
       "    </tr>\n",
       "    <tr>\n",
       "      <th>3</th>\n",
       "      <td>Logistic Regression</td>\n",
       "      <td>0.783333</td>\n",
       "      <td>0.768889</td>\n",
       "    </tr>\n",
       "    <tr>\n",
       "      <th>4</th>\n",
       "      <td>Random Forest Classifier</td>\n",
       "      <td>0.850000</td>\n",
       "      <td>0.940000</td>\n",
       "    </tr>\n",
       "    <tr>\n",
       "      <th>5</th>\n",
       "      <td>AdaBoost Classifier</td>\n",
       "      <td>0.500000</td>\n",
       "      <td>0.540000</td>\n",
       "    </tr>\n",
       "    <tr>\n",
       "      <th>6</th>\n",
       "      <td>Bagging Classifier</td>\n",
       "      <td>0.816667</td>\n",
       "      <td>0.908889</td>\n",
       "    </tr>\n",
       "    <tr>\n",
       "      <th>7</th>\n",
       "      <td>Stacking</td>\n",
       "      <td>0.766667</td>\n",
       "      <td>0.742222</td>\n",
       "    </tr>\n",
       "    <tr>\n",
       "      <th>8</th>\n",
       "      <td>Gradient Boosting Classifier</td>\n",
       "      <td>0.850000</td>\n",
       "      <td>0.940000</td>\n",
       "    </tr>\n",
       "  </tbody>\n",
       "</table>\n",
       "</div>"
      ],
      "text/plain": [
       "                      Algorithm  Accuracy  Precision\n",
       "0     Support Vector Classifier  0.833333   0.748889\n",
       "1        K-Neighbors Classifier  0.616667   0.690000\n",
       "2      Decision Tree Classifier  0.833333   0.900000\n",
       "3           Logistic Regression  0.783333   0.768889\n",
       "4      Random Forest Classifier  0.850000   0.940000\n",
       "5           AdaBoost Classifier  0.500000   0.540000\n",
       "6            Bagging Classifier  0.816667   0.908889\n",
       "7                      Stacking  0.766667   0.742222\n",
       "8  Gradient Boosting Classifier  0.850000   0.940000"
      ]
     },
     "execution_count": 40,
     "metadata": {},
     "output_type": "execute_result"
    }
   ],
   "source": [
    "result_dataframe"
   ]
  },
  {
   "cell_type": "code",
   "execution_count": 41,
   "id": "b135e5ef-f41f-4216-8113-eed99f90855f",
   "metadata": {},
   "outputs": [
    {
     "data": {
      "text/plain": [
       "4"
      ]
     },
     "execution_count": 41,
     "metadata": {},
     "output_type": "execute_result"
    }
   ],
   "source": [
    "max_accuracy_idx  = result_dataframe['Accuracy'].idxmax()\n",
    "max_accuracy_idx"
   ]
  },
  {
   "cell_type": "code",
   "execution_count": 42,
   "id": "8b6c307a-fa6b-4399-b850-5b1030d14f7b",
   "metadata": {},
   "outputs": [
    {
     "data": {
      "text/plain": [
       "'Random Forest Classifier'"
      ]
     },
     "execution_count": 42,
     "metadata": {},
     "output_type": "execute_result"
    }
   ],
   "source": [
    "based_moel_name = result_dataframe.loc[max_accuracy_idx,'Algorithm']\n",
    "based_moel_name"
   ]
  },
  {
   "cell_type": "code",
   "execution_count": 43,
   "id": "48b79e12-91a6-4ba3-b6db-b197242d7404",
   "metadata": {},
   "outputs": [],
   "source": [
    "from sklearn.metrics import accuracy_score, precision_score, recall_score, f1_score,confusion_matrix"
   ]
  },
  {
   "cell_type": "code",
   "execution_count": 44,
   "id": "3ce9494c-2e08-4ab0-8df0-286b1ba87440",
   "metadata": {},
   "outputs": [],
   "source": [
    "bagging.fit(x_train, y_train) \n",
    "y_pred = bagging.predict(x_test)\n",
    "accuracy = accuracy_score(y_test, y_pred)\n",
    "precision = precision_score(y_test, y_pred,average=\"macro\")\n",
    "recall = recall_score(y_test, y_pred,average=\"macro\")\n",
    "F1_score = f1_score(y_test, y_pred,average=\"macro\")"
   ]
  },
  {
   "cell_type": "code",
   "execution_count": 45,
   "id": "d9f751a1-6a9c-4016-9122-32244c51f9d8",
   "metadata": {},
   "outputs": [
    {
     "name": "stdout",
     "output_type": "stream",
     "text": [
      "Accuracy   : 0.8166666666666667\n",
      "Precision  : 0.7610877192982455\n",
      "Recall     : 0.8844444444444445\n",
      "F1-score   : 0.8098560898560899\n"
     ]
    }
   ],
   "source": [
    "print(\"Accuracy   :\", accuracy)\n",
    "print(\"Precision  :\", precision)\n",
    "print(\"Recall     :\", recall)\n",
    "print(\"F1-score   :\", F1_score)"
   ]
  },
  {
   "cell_type": "code",
   "execution_count": 46,
   "id": "21242d40-46e0-44f5-ae90-a88eac16b14c",
   "metadata": {},
   "outputs": [
    {
     "name": "stdout",
     "output_type": "stream",
     "text": [
      "              precision    recall  f1-score   support\n",
      "\n",
      "           0       0.84      0.89      0.86        18\n",
      "           1       0.88      0.73      0.80        30\n",
      "           2       0.67      0.80      0.73         5\n",
      "           3       0.75      1.00      0.86         3\n",
      "           4       0.67      1.00      0.80         4\n",
      "\n",
      "    accuracy                           0.82        60\n",
      "   macro avg       0.76      0.88      0.81        60\n",
      "weighted avg       0.83      0.82      0.82        60\n",
      "\n"
     ]
    }
   ],
   "source": [
    "print(metrics.classification_report(y_test, y_pred))"
   ]
  },
  {
   "cell_type": "code",
   "execution_count": 47,
   "id": "df81f5de-958c-466e-9687-12d1a5134936",
   "metadata": {},
   "outputs": [],
   "source": [
    "# confusion matrix"
   ]
  },
  {
   "cell_type": "code",
   "execution_count": 48,
   "id": "3006f1d6-6ae5-4bbc-a1fa-1dc0d63ac05d",
   "metadata": {},
   "outputs": [
    {
     "data": {
      "image/png": "[encoded data removed]",
      "text/plain": [
       "<Figure size 640x480 with 2 Axes>"
      ]
     },
     "metadata": {},
     "output_type": "display_data"
    }
   ],
   "source": [
    "cm = confusion_matrix(y_test,y_pred)\n",
    "\n",
    "#Plot the confusion matrix.\n",
    "sns.heatmap(cm,\n",
    "            annot=True,\n",
    "            fmt='g',\n",
    "            xticklabels=['malignant', 'benign'],\n",
    "            yticklabels=['malignant', 'benign'])\n",
    "plt.ylabel('Prediction',fontsize=13)\n",
    "plt.xlabel('Actual',fontsize=13)\n",
    "plt.title('Confusion Matrix',fontsize=17)\n",
    "plt.show()"
   ]
  },
  {
   "cell_type": "code",
   "execution_count": 49,
   "id": "da9bc8d8-da29-4393-8f7f-054277ee944c",
   "metadata": {},
   "outputs": [
    {
     "name": "stdout",
     "output_type": "stream",
     "text": [
      "[[61.     1.     0.     1.    10.798]]\n"
     ]
    }
   ],
   "source": [
    "input_data = (61,1,0,1,10.798)\n",
    "input_data_array = np.asarray(input_data)\n",
    "input_data_reshaped =  input_data_array.reshape(1,-1)\n",
    "print(input_data_reshaped)"
   ]
  },
  {
   "cell_type": "code",
   "execution_count": 50,
   "id": "a542ab80-b198-4fc3-95b0-bfbd00e983f8",
   "metadata": {},
   "outputs": [
    {
     "name": "stdout",
     "output_type": "stream",
     "text": [
      "[0]\n"
     ]
    }
   ],
   "source": [
    "prediction = stacking.predict(input_data_reshaped)\n",
    "print(prediction)"
   ]
  },
  {
   "cell_type": "code",
   "execution_count": 51,
   "id": "30bebb77-1add-47eb-9d5e-ee5faa4deb2a",
   "metadata": {},
   "outputs": [
    {
     "name": "stdout",
     "output_type": "stream",
     "text": [
      "DrugX\n"
     ]
    }
   ],
   "source": [
    "if prediction == 0:\n",
    "    print(\"DrugX\")\n",
    "elif prediction == 1:\n",
    "    print(\"DrugY\")\n",
    "elif prediction == 2:\n",
    "    print(\"DrugA\")\n",
    "elif prediction == 3:\n",
    "    print(\"DrugB\")\n",
    "else:\n",
    "    print(\"DrugC\")"
   ]
  },
  {
   "cell_type": "code",
   "execution_count": null,
   "id": "1e9f2bf0-0f00-41e5-945e-33b38b52f694",
   "metadata": {},
   "outputs": [],
   "source": []
  },
  {
   "cell_type": "code",
   "execution_count": null,
   "id": "06e49c25-0c1c-4e5f-a262-42ddc1876f14",
   "metadata": {},
   "outputs": [],
   "source": []
  }
 ],
 "metadata": {
  "kernelspec": {
   "display_name": "Python [conda env:base] *",
   "language": "python",
   "name": "conda-base-py"
  },
  "language_info": {
   "codemirror_mode": {
    "name": "ipython",
    "version": 3
   },
   "file_extension": ".py",
   "mimetype": "text/x-python",
   "name": "python",
   "nbconvert_exporter": "python",
   "pygments_lexer": "ipython3",
   "version": "3.12.4"
  }
 },
 "nbformat": 4,
 "nbformat_minor": 5
}
