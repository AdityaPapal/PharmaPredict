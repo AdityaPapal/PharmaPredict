{
 "cells": [
  {
   "cell_type": "code",
   "execution_count": 1,
   "id": "19296f1f-d53d-4230-97d4-ed6560a48ab7",
   "metadata": {},
   "outputs": [],
   "source": [
    "'''\n",
    "Convertion factor\n",
    "Sex : Male - 1, Female - 0\n",
    "\n",
    "\n",
    "'''"
   ]
  },
  {
   "cell_type": "code",
   "execution_count": 5,
   "id": "7ac8ec51-8be9-45e4-a8af-d88c1ed79d05",
   "metadata": {},
   "outputs": [],
   "source": [
    "import numpy as np\n",
    "import pandas as pd\n",
    "import seaborn as sns\n",
    "import matplotlib.pyplot as plt\n",
    "%matplotlib inline"
   ]
  },
  {
   "cell_type": "code",
   "execution_count": 7,
   "id": "b56666e6-3b86-44d4-aa3e-877842358eb8",
   "metadata": {},
   "outputs": [],
   "source": [
    "df = pd.read_csv(\"Datasets/cleandata.csv\")"
   ]
  },
  {
   "cell_type": "code",
   "execution_count": 11,
   "id": "72f6f0df-844c-4423-bd14-309247d24acb",
   "metadata": {},
   "outputs": [
    {
     "data": {
      "text/html": [
       "<div>\n",
       "<style scoped>\n",
       "    .dataframe tbody tr th:only-of-type {\n",
       "        vertical-align: middle;\n",
       "    }\n",
       "\n",
       "    .dataframe tbody tr th {\n",
       "        vertical-align: top;\n",
       "    }\n",
       "\n",
       "    .dataframe thead th {\n",
       "        text-align: right;\n",
       "    }\n",
       "</style>\n",
       "<table border=\"1\" class=\"dataframe\">\n",
       "  <thead>\n",
       "    <tr style=\"text-align: right;\">\n",
       "      <th></th>\n",
       "      <th>Age</th>\n",
       "      <th>Sex</th>\n",
       "      <th>BP</th>\n",
       "      <th>Cholesterol</th>\n",
       "      <th>Na_to_K</th>\n",
       "      <th>Drug</th>\n",
       "    </tr>\n",
       "  </thead>\n",
       "  <tbody>\n",
       "    <tr>\n",
       "      <th>0</th>\n",
       "      <td>23</td>\n",
       "      <td>F</td>\n",
       "      <td>HIGH</td>\n",
       "      <td>HIGH</td>\n",
       "      <td>25.355</td>\n",
       "      <td>DrugY</td>\n",
       "    </tr>\n",
       "    <tr>\n",
       "      <th>1</th>\n",
       "      <td>47</td>\n",
       "      <td>M</td>\n",
       "      <td>LOW</td>\n",
       "      <td>HIGH</td>\n",
       "      <td>13.093</td>\n",
       "      <td>drugC</td>\n",
       "    </tr>\n",
       "    <tr>\n",
       "      <th>2</th>\n",
       "      <td>47</td>\n",
       "      <td>M</td>\n",
       "      <td>LOW</td>\n",
       "      <td>HIGH</td>\n",
       "      <td>10.114</td>\n",
       "      <td>drugC</td>\n",
       "    </tr>\n",
       "    <tr>\n",
       "      <th>3</th>\n",
       "      <td>28</td>\n",
       "      <td>F</td>\n",
       "      <td>NORMAL</td>\n",
       "      <td>HIGH</td>\n",
       "      <td>7.798</td>\n",
       "      <td>drugX</td>\n",
       "    </tr>\n",
       "    <tr>\n",
       "      <th>4</th>\n",
       "      <td>61</td>\n",
       "      <td>F</td>\n",
       "      <td>LOW</td>\n",
       "      <td>HIGH</td>\n",
       "      <td>18.043</td>\n",
       "      <td>DrugY</td>\n",
       "    </tr>\n",
       "  </tbody>\n",
       "</table>\n",
       "</div>"
      ],
      "text/plain": [
       "   Age Sex      BP Cholesterol  Na_to_K   Drug\n",
       "0   23   F    HIGH        HIGH   25.355  DrugY\n",
       "1   47   M     LOW        HIGH   13.093  drugC\n",
       "2   47   M     LOW        HIGH   10.114  drugC\n",
       "3   28   F  NORMAL        HIGH    7.798  drugX\n",
       "4   61   F     LOW        HIGH   18.043  DrugY"
      ]
     },
     "execution_count": 11,
     "metadata": {},
     "output_type": "execute_result"
    }
   ],
   "source": [
    "df.head()"
   ]
  },
  {
   "cell_type": "code",
   "execution_count": 13,
   "id": "902db176-8bc4-4815-a932-f2b1a33d9f36",
   "metadata": {},
   "outputs": [
    {
     "data": {
      "text/plain": [
       "(188, 6)"
      ]
     },
     "execution_count": 13,
     "metadata": {},
     "output_type": "execute_result"
    }
   ],
   "source": [
    "df.shape"
   ]
  },
  {
   "cell_type": "code",
   "execution_count": 23,
   "id": "225666c9-d8f6-4e27-91e1-7b506f472f2e",
   "metadata": {},
   "outputs": [],
   "source": [
    "categorical_feature = df.columns[df.dtypes == 'object']\n",
    "numerical_feature = df.columns[df.dtypes != 'object']"
   ]
  },
  {
   "cell_type": "code",
   "execution_count": 25,
   "id": "663d5e92-f314-4cff-bd8d-bb4f26133c67",
   "metadata": {},
   "outputs": [
    {
     "data": {
      "text/plain": [
       "Index(['Sex', 'BP', 'Cholesterol', 'Drug'], dtype='object')"
      ]
     },
     "execution_count": 25,
     "metadata": {},
     "output_type": "execute_result"
    }
   ],
   "source": [
    "categorical_feature"
   ]
  },
  {
   "cell_type": "code",
   "execution_count": 27,
   "id": "365876cf-32b4-47cf-a87a-177c60924461",
   "metadata": {},
   "outputs": [
    {
     "data": {
      "text/plain": [
       "Index(['Age', 'Na_to_K'], dtype='object')"
      ]
     },
     "execution_count": 27,
     "metadata": {},
     "output_type": "execute_result"
    }
   ],
   "source": [
    "numerical_feature"
   ]
  },
  {
   "cell_type": "code",
   "execution_count": 31,
   "id": "1157b185-5b62-4bd6-9f9d-50dd99eb0ae9",
   "metadata": {},
   "outputs": [
    {
     "name": "stdout",
     "output_type": "stream",
     "text": [
      "Sex :  ['F' 'M']\n",
      "BP :  ['HIGH' 'LOW' 'NORMAL']\n",
      "Cholesterol :  ['HIGH' 'NORMAL']\n",
      "Drug :  ['DrugY' 'drugC' 'drugX' 'drugA' 'drugB']\n"
     ]
    }
   ],
   "source": [
    "for fea in categorical_feature:\n",
    "    unique = df[fea].unique()\n",
    "    print(f\"{fea} :  {unique}\")"
   ]
  },
  {
   "cell_type": "code",
   "execution_count": 33,
   "id": "12a91e10-4a97-4f75-ada6-b8edf4c8662e",
   "metadata": {},
   "outputs": [],
   "source": [
    "df[\"Sex\"] = df['Sex'].map({'F':0,\"M\":1})"
   ]
  },
  {
   "cell_type": "code",
   "execution_count": null,
   "id": "cfa509c5-3add-477b-ac5b-3ee9fb8278f0",
   "metadata": {},
   "outputs": [],
   "source": [
    "df[\"BP \"] = df['Sex'].map({'LOW':0,\"M\":1})"
   ]
  }
 ],
 "metadata": {
  "kernelspec": {
   "display_name": "Python 3 (ipykernel)",
   "language": "python",
   "name": "python3"
  },
  "language_info": {
   "codemirror_mode": {
    "name": "ipython",
    "version": 3
   },
   "file_extension": ".py",
   "mimetype": "text/x-python",
   "name": "python",
   "nbconvert_exporter": "python",
   "pygments_lexer": "ipython3",
   "version": "3.12.4"
  }
 },
 "nbformat": 4,
 "nbformat_minor": 5
}
